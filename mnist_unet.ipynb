{
 "cells": [
  {
   "cell_type": "code",
   "execution_count": 1,
   "metadata": {},
   "outputs": [
    {
     "name": "stderr",
     "output_type": "stream",
     "text": [
      "/Users/gchlebus/anaconda2/envs/tf/lib/python3.6/site-packages/h5py/__init__.py:36: FutureWarning: Conversion of the second argument of issubdtype from `float` to `np.floating` is deprecated. In future, it will be treated as `np.float64 == np.dtype(float).type`.\n",
      "  from ._conv import register_converters as _register_converters\n",
      "Using TensorFlow backend.\n"
     ]
    }
   ],
   "source": [
    "import tensorflow as tf\n",
    "import numpy as np\n",
    "\n",
    "import innvestigate\n",
    "import innvestigate.utils as iutils\n",
    "from innvestigate.utils.visualizations import heatmap\n",
    "\n",
    "from keras.models import Model\n",
    "from keras.layers import concatenate, Input, Conv2D, MaxPooling2D, Conv2DTranspose, Activation, Cropping2D, Lambda, Flatten\n",
    "from keras.layers.normalization import BatchNormalization\n",
    "\n",
    "from tqdm import tqdm_notebook as tqdm\n",
    "\n",
    "import matplotlib.pyplot as plot\n",
    "import numpy as np\n",
    "import os\n",
    "%matplotlib inline  "
   ]
  },
  {
   "cell_type": "code",
   "execution_count": 2,
   "metadata": {},
   "outputs": [
    {
     "name": "stdout",
     "output_type": "stream",
     "text": [
      "WARNING:tensorflow:From <ipython-input-2-ed5a0d9ed724>:2: read_data_sets (from tensorflow.contrib.learn.python.learn.datasets.mnist) is deprecated and will be removed in a future version.\n",
      "Instructions for updating:\n",
      "Please use alternatives such as official/mnist/dataset.py from tensorflow/models.\n",
      "WARNING:tensorflow:From /Users/gchlebus/anaconda2/envs/tf/lib/python3.6/site-packages/tensorflow/contrib/learn/python/learn/datasets/mnist.py:260: maybe_download (from tensorflow.contrib.learn.python.learn.datasets.base) is deprecated and will be removed in a future version.\n",
      "Instructions for updating:\n",
      "Please write your own downloading logic.\n",
      "WARNING:tensorflow:From /Users/gchlebus/anaconda2/envs/tf/lib/python3.6/site-packages/tensorflow/contrib/learn/python/learn/datasets/base.py:252: _internal_retry.<locals>.wrap.<locals>.wrapped_fn (from tensorflow.contrib.learn.python.learn.datasets.base) is deprecated and will be removed in a future version.\n",
      "Instructions for updating:\n",
      "Please use urllib or similar directly.\n",
      "Successfully downloaded train-images-idx3-ubyte.gz 9912422 bytes.\n",
      "WARNING:tensorflow:From /Users/gchlebus/anaconda2/envs/tf/lib/python3.6/site-packages/tensorflow/contrib/learn/python/learn/datasets/mnist.py:262: extract_images (from tensorflow.contrib.learn.python.learn.datasets.mnist) is deprecated and will be removed in a future version.\n",
      "Instructions for updating:\n",
      "Please use tf.data to implement this functionality.\n",
      "Extracting MNIST_DATA/train-images-idx3-ubyte.gz\n",
      "Successfully downloaded train-labels-idx1-ubyte.gz 28881 bytes.\n",
      "WARNING:tensorflow:From /Users/gchlebus/anaconda2/envs/tf/lib/python3.6/site-packages/tensorflow/contrib/learn/python/learn/datasets/mnist.py:267: extract_labels (from tensorflow.contrib.learn.python.learn.datasets.mnist) is deprecated and will be removed in a future version.\n",
      "Instructions for updating:\n",
      "Please use tf.data to implement this functionality.\n",
      "Extracting MNIST_DATA/train-labels-idx1-ubyte.gz\n",
      "WARNING:tensorflow:From /Users/gchlebus/anaconda2/envs/tf/lib/python3.6/site-packages/tensorflow/contrib/learn/python/learn/datasets/mnist.py:110: dense_to_one_hot (from tensorflow.contrib.learn.python.learn.datasets.mnist) is deprecated and will be removed in a future version.\n",
      "Instructions for updating:\n",
      "Please use tf.one_hot on tensors.\n",
      "Successfully downloaded t10k-images-idx3-ubyte.gz 1648877 bytes.\n",
      "Extracting MNIST_DATA/t10k-images-idx3-ubyte.gz\n",
      "Successfully downloaded t10k-labels-idx1-ubyte.gz 4542 bytes.\n",
      "Extracting MNIST_DATA/t10k-labels-idx1-ubyte.gz\n",
      "WARNING:tensorflow:From /Users/gchlebus/anaconda2/envs/tf/lib/python3.6/site-packages/tensorflow/contrib/learn/python/learn/datasets/mnist.py:290: DataSet.__init__ (from tensorflow.contrib.learn.python.learn.datasets.mnist) is deprecated and will be removed in a future version.\n",
      "Instructions for updating:\n",
      "Please use alternatives such as official/mnist/dataset.py from tensorflow/models.\n"
     ]
    }
   ],
   "source": [
    "from tensorflow.examples.tutorials.mnist import input_data\n",
    "mnist = input_data.read_data_sets('MNIST_DATA', one_hot=True)"
   ]
  },
  {
   "cell_type": "code",
   "execution_count": 3,
   "metadata": {
    "collapsed": true
   },
   "outputs": [],
   "source": [
    "def ConvBNRelu(input_tensor, filters, batch_norm=True):\n",
    "    out = Conv2D(filters, (3, 3), activation=None, padding='valid', use_bias=False)(input_tensor)\n",
    "    if batch_norm:\n",
    "        out = BatchNormalization(axis=-1)(out)\n",
    "    return Activation('relu')(out)\n",
    "\n",
    "\n",
    "def get_model(weights=None, flatten_output=False, last_activation=\"sigmoid\", batch_norm=True):\n",
    "    filters = 4\n",
    "    inputs = Input((28, 28, 1), name=\"input\")\n",
    "\n",
    "    conv1 = ConvBNRelu(inputs, filters, batch_norm=batch_norm)\n",
    "    conv2 = ConvBNRelu(conv1, filters, batch_norm=batch_norm)\n",
    "\n",
    "    pool1 = MaxPooling2D(pool_size=(2, 2))(conv2)\n",
    "    \n",
    "    conv3 = ConvBNRelu(pool1, 2*filters, batch_norm=batch_norm)\n",
    "    conv4 = ConvBNRelu(conv3, 2*filters, batch_norm=batch_norm)\n",
    "\n",
    "    up1 = Conv2DTranspose(filters, (2, 2), strides=(2, 2), activation='relu', padding='valid')(conv4)\n",
    "    up1 = concatenate([up1, Cropping2D(cropping=(4, 4))(conv2)])\n",
    "    \n",
    "    conv5 = ConvBNRelu(up1, filters, batch_norm=batch_norm)\n",
    "    conv6 = ConvBNRelu(conv5, filters, batch_norm=batch_norm)\n",
    "\n",
    "    logits = Conv2D(1, (1, 1), activation=last_activation)(conv6)\n",
    "    \n",
    "    if flatten_output:\n",
    "        logits = Flatten()(logits)\n",
    "\n",
    "    model = Model(inputs=[inputs], outputs=[logits])\n",
    "    model.compile(loss=\"binary_crossentropy\", optimizer=\"adam\")\n",
    "    if weights is not None:\n",
    "        model.load_weights(weights)\n",
    "    return model"
   ]
  },
  {
   "cell_type": "code",
   "execution_count": 4,
   "metadata": {},
   "outputs": [
    {
     "name": "stdout",
     "output_type": "stream",
     "text": [
      "Epoch 1/2\n",
      "55000/55000 [==============================] - 25s 446us/step - loss: 0.0843\n",
      "Epoch 2/2\n",
      "55000/55000 [==============================] - 24s 432us/step - loss: 0.0240\n"
     ]
    }
   ],
   "source": [
    "model = get_model(batch_norm=False)\n",
    "\n",
    "\n",
    "batch_size = 32\n",
    "\n",
    "x = mnist.train.images\n",
    "count = len(x)\n",
    "x = np.reshape(x, (count, 28, 28, 1))\n",
    "y = np.where(x > 0.5, 1, 0)\n",
    "y = y[:, 8:-8, 8:-8, :]\n",
    "model.fit(x, y, batch_size=batch_size, epochs=2)\n",
    "model.save_weights(\"params_wo_batchnorm\")"
   ]
  },
  {
   "cell_type": "code",
   "execution_count": 9,
   "metadata": {},
   "outputs": [
    {
     "data": {
      "image/png": "[encoded data removed]",
      "text/plain": [
       "<matplotlib.figure.Figure at 0x1213e7860>"
      ]
     },
     "metadata": {},
     "output_type": "display_data"
    },
    {
     "data": {
      "image/png": "[encoded data removed]",
      "text/plain": [
       "<matplotlib.figure.Figure at 0x1215daf60>"
      ]
     },
     "metadata": {},
     "output_type": "display_data"
    },
    {
     "data": {
      "image/png": "[encoded data removed]",
      "text/plain": [
       "<matplotlib.figure.Figure at 0x11d5aab38>"
      ]
     },
     "metadata": {},
     "output_type": "display_data"
    }
   ],
   "source": [
    "model = get_model(\"params_wo_batchnorm\", batch_norm=False)\n",
    "sample = x[0:1]\n",
    "plot.imshow(sample.squeeze(), cmap=\"gray\")\n",
    "plot.gca().set_title(\"Input image\")\n",
    "plot.show()\n",
    "\n",
    "plot.imshow(sample[:, 8:-8, 8:-8].squeeze(), cmap=\"gray\")\n",
    "plot.gca().set_title(\"Image patch that will be segmented\")\n",
    "plot.show()\n",
    "\n",
    "p = model.predict(sample)\n",
    "p = p.squeeze()\n",
    "#p = np.pad(p, (8, 8), mode=\"constant\", constant_values=0)\n",
    "i, j = np.unravel_index(np.argmax(p), p.shape)\n",
    "plot.imshow(p.squeeze(), cmap=\"gray\")\n",
    "plot.gca().set_title(\"Segmentation mask\")\n",
    "plot.show()"
   ]
  },
  {
   "cell_type": "code",
   "execution_count": 14,
   "metadata": {},
   "outputs": [
    {
     "name": "stdout",
     "output_type": "stream",
     "text": [
      "Neuron output at (10, 11) =  14.302249\n",
      "Flattened model neuron output at (10, 11) =  14.302249\n",
      "--------------------------------------------------------------------------------\n",
      "Run analysis multiple times for the same output neuron index\n",
      "ITERATION 0\n",
      "relevance at index =  4.29285\n",
      "analysis.sum() =  13.667119\n"
     ]
    },
    {
     "data": {
      "image/png": "[encoded data removed]",
      "text/plain": [
       "<matplotlib.figure.Figure at 0x12334d080>"
      ]
     },
     "metadata": {},
     "output_type": "display_data"
    },
    {
     "name": "stdout",
     "output_type": "stream",
     "text": [
      "ITERATION 1\n",
      "relevance at index =  3.6035206\n",
      "analysis.sum() =  13.667117\n"
     ]
    },
    {
     "data": {
      "image/png": "[encoded data removed]",
      "text/plain": [
       "<matplotlib.figure.Figure at 0x1279d6470>"
      ]
     },
     "metadata": {},
     "output_type": "display_data"
    },
    {
     "name": "stdout",
     "output_type": "stream",
     "text": [
      "ITERATION 2\n",
      "relevance at index =  -59.403824\n",
      "analysis.sum() =  13.667109\n"
     ]
    },
    {
     "data": {
      "image/png": "[encoded data removed]",
      "text/plain": [
       "<matplotlib.figure.Figure at 0x11e129518>"
      ]
     },
     "metadata": {},
     "output_type": "display_data"
    }
   ],
   "source": [
    "pixel_x = 11\n",
    "pixel_y = 10\n",
    "model = get_model(\"params_wo_batchnorm\", last_activation=\"linear\", batch_norm=False)\n",
    "p = model.predict(sample)\n",
    "print('Neuron output at (%d, %d) = ' % (pixel_y, pixel_x), p[0, pixel_y, pixel_x, 0])\n",
    "index = np.ravel_multi_index((0, pixel_y, pixel_x, 0), p.shape)\n",
    "flatten_model = get_model(\"params_wo_batchnorm\", flatten_output=True, last_activation=\"linear\", batch_norm=False)\n",
    "flat_p = flatten_model.predict(sample)\n",
    "print('Flattened model neuron output at (%d, %d) = ' % (pixel_y, pixel_x), flat_p[0, index])\n",
    "\n",
    "\n",
    "print(\"-\" * 80)\n",
    "print(\"Run analysis multiple times for the same output neuron index\")\n",
    "for i in range(3):\n",
    "    print(\"ITERATION %d\" % i)\n",
    "    analyzer = innvestigate.analyzer.LRPEpsilon(flatten_model, input_layer_rule=(0, 1), neuron_selection_mode=\"index\")\n",
    "    analysis = analyzer.analyze(sample, index)\n",
    "    print(\"relevance at index = \", analysis[0, pixel_y+8, pixel_x+8, 0])\n",
    "    print(\"analysis.sum() = \", analysis.sum())\n",
    "    analysis = heatmap(analysis)\n",
    "    plot.imshow(analysis.squeeze(), cmap='gray', interpolation='nearest')\n",
    "    plot.show()"
   ]
  },
  {
   "cell_type": "code",
   "execution_count": null,
   "metadata": {
    "collapsed": true
   },
   "outputs": [],
   "source": []
  }
 ],
 "metadata": {
  "kernelspec": {
   "display_name": "Python [conda env:tf]",
   "language": "python",
   "name": "conda-env-tf-py"
  },
  "language_info": {
   "codemirror_mode": {
    "name": "ipython",
    "version": 3
   },
   "file_extension": ".py",
   "mimetype": "text/x-python",
   "name": "python",
   "nbconvert_exporter": "python",
   "pygments_lexer": "ipython3",
   "version": "3.6.4"
  }
 },
 "nbformat": 4,
 "nbformat_minor": 2
}
